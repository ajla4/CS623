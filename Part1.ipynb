{
  "nbformat": 4,
  "nbformat_minor": 0,
  "metadata": {
    "colab": {
      "provenance": [],
      "authorship_tag": "ABX9TyPDkDiTPoaLZ2RVhda4IEhq",
      "include_colab_link": true
    },
    "kernelspec": {
      "name": "python3",
      "display_name": "Python 3"
    },
    "language_info": {
      "name": "python"
    }
  },
  "cells": [
    {
      "cell_type": "markdown",
      "metadata": {
        "id": "view-in-github",
        "colab_type": "text"
      },
      "source": [
        "<a href=\"https://colab.research.google.com/github/ajla4/CS623/blob/main/Part1.ipynb\" target=\"_parent\"><img src=\"https://colab.research.google.com/assets/colab-badge.svg\" alt=\"Open In Colab\"/></a>"
      ]
    },
    {
      "cell_type": "code",
      "source": [
        "def delete_char(word):\n",
        "    return [word[:i] + word[i+1:] for i in range(len(word))]\n",
        "\n",
        "def switch_char(word):\n",
        "    return [word[:i] + word[i+1] + word[i] + word[i+2:] for i in range(len(word) - 1)]\n",
        "\n",
        "def replace_char(word):\n",
        "    alphabet = 'abcdefghijklmnopqrstuvwxyz'\n",
        "    variations = []\n",
        "    for i in range(len(word)):\n",
        "        for char in alphabet:\n",
        "            if char != word[i]:\n",
        "                variations.append(word[:i] + char + word[i+1:])\n",
        "    return variations\n",
        "\n",
        "def insert_char(word):\n",
        "    alphabet = 'abcdefghijklmnopqrstuvwxyz'\n",
        "    variations = []\n",
        "    for i in range(len(word) + 1):\n",
        "        for char in alphabet:\n",
        "            variations.append(word[:i] + char + word[i:])\n",
        "    return variations\n",
        "\n",
        "word = \"pace\"\n",
        "print(\"Delete char: \" , delete_char(word))\n",
        "\n",
        "word = \"eta\"\n",
        "print(\"Switch char:\", switch_char(word))\n",
        "\n",
        "word = \"can\"\n",
        "print(\"Replace char:\", replace_char(word))\n",
        "\n",
        "word = \"at\"\n",
        "print(\"Insert char:\", insert_char(word))\n"
      ],
      "metadata": {
        "colab": {
          "base_uri": "https://localhost:8080/"
        },
        "id": "XKVSZlogE3c3",
        "outputId": "52c1a561-5438-4a92-f387-712c67fb38cb"
      },
      "execution_count": 3,
      "outputs": [
        {
          "output_type": "stream",
          "name": "stdout",
          "text": [
            "Delete char:  ['ace', 'pce', 'pae', 'pac']\n",
            "Switch char: ['tea', 'eat']\n",
            "Replace char: ['aan', 'ban', 'dan', 'ean', 'fan', 'gan', 'han', 'ian', 'jan', 'kan', 'lan', 'man', 'nan', 'oan', 'pan', 'qan', 'ran', 'san', 'tan', 'uan', 'van', 'wan', 'xan', 'yan', 'zan', 'cbn', 'ccn', 'cdn', 'cen', 'cfn', 'cgn', 'chn', 'cin', 'cjn', 'ckn', 'cln', 'cmn', 'cnn', 'con', 'cpn', 'cqn', 'crn', 'csn', 'ctn', 'cun', 'cvn', 'cwn', 'cxn', 'cyn', 'czn', 'caa', 'cab', 'cac', 'cad', 'cae', 'caf', 'cag', 'cah', 'cai', 'caj', 'cak', 'cal', 'cam', 'cao', 'cap', 'caq', 'car', 'cas', 'cat', 'cau', 'cav', 'caw', 'cax', 'cay', 'caz']\n",
            "Insert char: ['aat', 'bat', 'cat', 'dat', 'eat', 'fat', 'gat', 'hat', 'iat', 'jat', 'kat', 'lat', 'mat', 'nat', 'oat', 'pat', 'qat', 'rat', 'sat', 'tat', 'uat', 'vat', 'wat', 'xat', 'yat', 'zat', 'aat', 'abt', 'act', 'adt', 'aet', 'aft', 'agt', 'aht', 'ait', 'ajt', 'akt', 'alt', 'amt', 'ant', 'aot', 'apt', 'aqt', 'art', 'ast', 'att', 'aut', 'avt', 'awt', 'axt', 'ayt', 'azt', 'ata', 'atb', 'atc', 'atd', 'ate', 'atf', 'atg', 'ath', 'ati', 'atj', 'atk', 'atl', 'atm', 'atn', 'ato', 'atp', 'atq', 'atr', 'ats', 'att', 'atu', 'atv', 'atw', 'atx', 'aty', 'atz']\n"
          ]
        }
      ]
    }
  ]
}